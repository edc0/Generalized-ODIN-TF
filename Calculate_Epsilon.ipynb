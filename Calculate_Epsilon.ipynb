{
  "nbformat": 4,
  "nbformat_minor": 0,
  "metadata": {
    "colab": {
      "name": "Calculate_Epsilon.ipynb",
      "provenance": [],
      "collapsed_sections": [],
      "machine_shape": "hm",
      "authorship_tag": "ABX9TyPoBcwegWg6eacqCgbidb0i",
      "include_colab_link": true
    },
    "kernelspec": {
      "name": "python3",
      "display_name": "Python 3"
    },
    "language_info": {
      "name": "python"
    },
    "accelerator": "GPU"
  },
  "cells": [
    {
      "cell_type": "markdown",
      "metadata": {
        "id": "view-in-github",
        "colab_type": "text"
      },
      "source": [
        "<a href=\"https://colab.research.google.com/github/sayakpaul/Generalized-ODIN-TF/blob/main/Calculate_Epsilon.ipynb\" target=\"_parent\"><img src=\"https://colab.research.google.com/assets/colab-badge.svg\" alt=\"Open In Colab\"/></a>"
      ]
    },
    {
      "cell_type": "markdown",
      "metadata": {
        "id": "QoqcWOsG8uQw"
      },
      "source": [
        "## Setup"
      ]
    },
    {
      "cell_type": "code",
      "metadata": {
        "colab": {
          "base_uri": "https://localhost:8080/"
        },
        "id": "hSP_ddoJ6FSy",
        "outputId": "0954d1b4-79bd-4b2b-8717-1ec0a0548f60"
      },
      "source": [
        "# Retrieve the pre-trained ResNet20 model.\n",
        "!gdown --id 1-6Xp7__VMJeMBtGMByI7_GYVeIIv-1Ay -O odin_rn_model.tar.gz\n",
        "!tar xf odin_rn_model.tar.gz"
      ],
      "execution_count": 3,
      "outputs": [
        {
          "output_type": "stream",
          "text": [
            "Downloading...\n",
            "From: https://drive.google.com/uc?id=1-6Xp7__VMJeMBtGMByI7_GYVeIIv-1Ay\n",
            "To: /content/odin_rn_model.tar.gz\n",
            "\r0.00B [00:00, ?B/s]\r6.64MB [00:00, 213MB/s]\n"
          ],
          "name": "stdout"
        }
      ]
    },
    {
      "cell_type": "code",
      "metadata": {
        "id": "hjNMaqP16fUa"
      },
      "source": [
        "import tensorflow as tf\n",
        "\n",
        "import matplotlib.pyplot as plt\n",
        "import numpy as np\n",
        "\n",
        "tf.random.set_seed(42)\n",
        "np.random.seed(42)"
      ],
      "execution_count": 1,
      "outputs": []
    },
    {
      "cell_type": "markdown",
      "metadata": {
        "id": "sa-bFmFe8xz8"
      },
      "source": [
        "## Load the pre-trained model"
      ]
    },
    {
      "cell_type": "code",
      "metadata": {
        "colab": {
          "base_uri": "https://localhost:8080/"
        },
        "id": "aSfgIZ1y6qQ6",
        "outputId": "0db34ed7-0240-4440-e32f-7e74351bfac4"
      },
      "source": [
        "model = tf.keras.models.load_model(\"odin_rn_model\")\n",
        "print(f\"Pre-trained model loaded with {model.count_params()/1e6} M parameters.\")"
      ],
      "execution_count": 2,
      "outputs": [
        {
          "output_type": "stream",
          "text": [
            "Pre-trained model loaded with 0.574572 M parameters.\n"
          ],
          "name": "stdout"
        }
      ]
    },
    {
      "cell_type": "markdown",
      "metadata": {
        "id": "jhTEsfS58vvT"
      },
      "source": [
        "## Load the CIFAR-10 dataset"
      ]
    },
    {
      "cell_type": "code",
      "metadata": {
        "colab": {
          "base_uri": "https://localhost:8080/"
        },
        "id": "bbMcXWvw679h",
        "outputId": "24eeed51-f29b-4632-d57b-dcd36c14700c"
      },
      "source": [
        "(_, _), (x_test, y_test) = tf.keras.datasets.cifar10.load_data()\n",
        "print(f\"Total test examples: {len(x_test)}\")"
      ],
      "execution_count": 3,
      "outputs": [
        {
          "output_type": "stream",
          "text": [
            "Total test examples: 10000\n"
          ],
          "name": "stdout"
        }
      ]
    },
    {
      "cell_type": "markdown",
      "metadata": {
        "id": "qjSdsdKl84hF"
      },
      "source": [
        "## Define constants"
      ]
    },
    {
      "cell_type": "code",
      "metadata": {
        "id": "T5_ZADvL7CSh"
      },
      "source": [
        "BATCH_SIZE = 128\n",
        "AUTO = tf.data.AUTOTUNE\n",
        "SAMPLES_PERTURB = 1000"
      ],
      "execution_count": 4,
      "outputs": []
    },
    {
      "cell_type": "markdown",
      "metadata": {
        "id": "WjSqTtJV86Ht"
      },
      "source": [
        "## Prepare data loaders"
      ]
    },
    {
      "cell_type": "code",
      "metadata": {
        "id": "TsWzYdFy7Y4k"
      },
      "source": [
        "perturb_ds = tf.convert_to_tensor(x_test[:SAMPLES_PERTURB].astype(\"float32\"))\n",
        "ds = tf.data.Dataset.from_tensor_slices((x_test, y_test))\n",
        "test_ds = ds.skip(SAMPLES_PERTURB).take(len(x_test) - SAMPLES_PERTURB).batch(BATCH_SIZE)"
      ],
      "execution_count": 5,
      "outputs": []
    },
    {
      "cell_type": "markdown",
      "metadata": {
        "id": "9tMNGgs99It2"
      },
      "source": [
        "## Calculating the perturbation magnitude ($\\epsilon^{*}$)\n",
        "\n",
        "From the paper: \n",
        "\n",
        "> In our method, we search for the $\\epsilon^{*}$ which maximizes the score $S(x)$ with only the in-distribution validation dataset $D_{\\text {in }}^{\\text {val }}$:\n",
        "\n",
        "$$\\epsilon^{*}=\\underset{\\varepsilon}{\\arg \\max } \\sum_{x \\in D_{i n}^{\\text {val }}} S({\\boldsymbol{x}})$$\n",
        "\n",
        "$S(x)$ is given by:\n",
        "\n",
        ">  For out-of-distribution detection, we use the scoring function:\n",
        "<center>\n",
        "$S_{DeConf}(\\boldsymbol{x})=\\max _{i} h_{i}(\\boldsymbol{x})$ or $g(\\boldsymbol{x})$\n",
        "</center>\n",
        "\n",
        "Perturbation of an input image is realized using the equation below:\n",
        "\n",
        "$$\n",
        "\\hat{\\boldsymbol{x}}=\\boldsymbol{x}-\\epsilon \\operatorname{sign}\\left(-\\nabla_{\\boldsymbol{x}} S(\\boldsymbol{x})\\right)\n",
        "$$"
      ]
    },
    {
      "cell_type": "code",
      "metadata": {
        "id": "WzUie-5-8jAZ"
      },
      "source": [
        "# Let's define our model to obtain scores.\n",
        "scorer = tf.keras.Model(model.input, model.layers[-2].output)"
      ],
      "execution_count": 6,
      "outputs": []
    },
    {
      "cell_type": "code",
      "metadata": {
        "colab": {
          "base_uri": "https://localhost:8080/"
        },
        "id": "IRpKXpigBCfG",
        "outputId": "863387b7-76ad-4a88-d648-ba19e8946796"
      },
      "source": [
        "# We can take a batch of data and obtain the OOD scores like so.\n",
        "sample_scores = scorer.predict(test_ds.take(1))\n",
        "sample_scores[:5]"
      ],
      "execution_count": 7,
      "outputs": [
        {
          "output_type": "execute_result",
          "data": {
            "text/plain": [
              "array([[0.4178029 , 0.2997888 , 0.42754278, 0.2922473 , 0.63637024,\n",
              "        0.33219904, 0.2604284 , 0.44775465, 0.25829434, 0.4107703 ],\n",
              "       [0.19263816, 0.34350842, 0.3622666 , 0.35726658, 0.4652104 ,\n",
              "        0.4666784 , 0.29159823, 0.32265878, 0.17091236, 0.30805007],\n",
              "       [0.371202  , 0.41554976, 0.502523  , 0.4851712 , 0.6317208 ,\n",
              "        0.42792296, 0.35079482, 0.33695242, 0.22708139, 0.35269815],\n",
              "       [0.49741137, 0.34551892, 0.5209366 , 0.50705826, 0.3402585 ,\n",
              "        0.38563576, 0.3555499 , 0.38100013, 0.3735423 , 0.61080885],\n",
              "       [0.63022316, 0.6320237 , 0.727445  , 0.73132706, 0.902592  ,\n",
              "        0.80281264, 0.61695886, 0.7478932 , 0.29849046, 0.8099188 ]],\n",
              "      dtype=float32)"
            ]
          },
          "metadata": {
            "tags": []
          },
          "execution_count": 7
        }
      ]
    },
    {
      "cell_type": "code",
      "metadata": {
        "id": "JIboPp8bCa3k"
      },
      "source": [
        "# Grid as defined in Section 3.2.\n",
        "epsilon_grid = [0.0025, 0.005, 0.01, 0.02, 0.04, 0.08]"
      ],
      "execution_count": 8,
      "outputs": []
    },
    {
      "cell_type": "code",
      "metadata": {
        "id": "Si8J39lcDSnK"
      },
      "source": [
        "def perturb_images(model, epsilon):\n",
        "    test_ds_var = tf.Variable(perturb_ds, trainable=True)\n",
        "    \n",
        "    with tf.GradientTape() as tape:\n",
        "        # Calculate the scores.\n",
        "        tape.watch(test_ds_var)\n",
        "        scores = model(test_ds_var, training=False)\n",
        "\n",
        "    # Calculate the gradients of the scores with respect to the inputs.\n",
        "    # (Notice the sign.)\n",
        "    gradients = -tape.gradient(scores, test_ds_var)\n",
        "\n",
        "    # Perturb the inputs and derive new mean score.\n",
        "    test_ds_var.assign_sub(epsilon * tf.sign(gradients))\n",
        "    static_tensor = tf.convert_to_tensor(test_ds_var)\n",
        "    new_mean_score = tf.reduce_mean(model.predict(static_tensor))\n",
        "\n",
        "    return new_mean_score"
      ],
      "execution_count": 11,
      "outputs": []
    },
    {
      "cell_type": "code",
      "metadata": {
        "colab": {
          "base_uri": "https://localhost:8080/"
        },
        "id": "d44O5i5HFwjF",
        "outputId": "bf2cfd8a-8c54-46e0-b6d1-fdfbe5278f18"
      },
      "source": [
        "# Derive the perturbation magnitude. \n",
        "mean_scores = []\n",
        "\n",
        "for epsilon in epsilon_grid:\n",
        "    mean_scores.append(perturb_images(scorer, epsilon))\n",
        "\n",
        "epsilon_selected = epsilon_grid[np.argmax(mean_scores)]\n",
        "print(f\"Epsilon: {epsilon_selected}\")"
      ],
      "execution_count": 14,
      "outputs": [
        {
          "output_type": "stream",
          "text": [
            "Epsilon: 0.08\n"
          ],
          "name": "stdout"
        }
      ]
    }
  ]
}