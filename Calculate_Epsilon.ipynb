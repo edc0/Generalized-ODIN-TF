{
  "nbformat": 4,
  "nbformat_minor": 0,
  "metadata": {
    "colab": {
      "name": "Calculate_Epsilon.ipynb",
      "provenance": [],
      "collapsed_sections": [],
      "machine_shape": "hm",
      "authorship_tag": "ABX9TyO3STnahzdzUp9WEIwe0c0Q",
      "include_colab_link": true
    },
    "kernelspec": {
      "name": "python3",
      "display_name": "Python 3"
    },
    "language_info": {
      "name": "python"
    },
    "accelerator": "GPU"
  },
  "cells": [
    {
      "cell_type": "markdown",
      "metadata": {
        "id": "view-in-github",
        "colab_type": "text"
      },
      "source": [
        "<a href=\"https://colab.research.google.com/github/sayakpaul/Generalized-ODIN-TF/blob/main/Calculate_Epsilon.ipynb\" target=\"_parent\"><img src=\"https://colab.research.google.com/assets/colab-badge.svg\" alt=\"Open In Colab\"/></a>"
      ]
    },
    {
      "cell_type": "markdown",
      "metadata": {
        "id": "QoqcWOsG8uQw"
      },
      "source": [
        "## Setup"
      ]
    },
    {
      "cell_type": "code",
      "metadata": {
        "colab": {
          "base_uri": "https://localhost:8080/"
        },
        "id": "hSP_ddoJ6FSy",
        "outputId": "c271e802-5a6e-40f7-846a-4663dc68106c"
      },
      "source": [
        "# Retrieve the pre-trained ResNet20 model.\n",
        "# Refer to this notebook for details: https://git.io/JOJuL.\n",
        "!gdown --id 1-6Xp7__VMJeMBtGMByI7_GYVeIIv-1Ay -O odin_rn_model.tar.gz\n",
        "!tar xf odin_rn_model.tar.gz"
      ],
      "execution_count": 1,
      "outputs": [
        {
          "output_type": "stream",
          "text": [
            "Downloading...\n",
            "From: https://drive.google.com/uc?id=1-6Xp7__VMJeMBtGMByI7_GYVeIIv-1Ay\n",
            "To: /content/odin_rn_model.tar.gz\n",
            "6.62MB [00:00, 16.0MB/s]\n"
          ],
          "name": "stdout"
        }
      ]
    },
    {
      "cell_type": "code",
      "metadata": {
        "id": "hjNMaqP16fUa"
      },
      "source": [
        "import tensorflow as tf\n",
        "\n",
        "import matplotlib.pyplot as plt\n",
        "import numpy as np\n",
        "\n",
        "tf.random.set_seed(42)\n",
        "np.random.seed(42)"
      ],
      "execution_count": 1,
      "outputs": []
    },
    {
      "cell_type": "markdown",
      "metadata": {
        "id": "sa-bFmFe8xz8"
      },
      "source": [
        "## Load the pre-trained model"
      ]
    },
    {
      "cell_type": "code",
      "metadata": {
        "colab": {
          "base_uri": "https://localhost:8080/"
        },
        "id": "aSfgIZ1y6qQ6",
        "outputId": "195a1eaf-0a2f-4cf2-d68c-16a0b70bef92"
      },
      "source": [
        "model = tf.keras.models.load_model(\"odin_rn_model\")\n",
        "print(f\"Pre-trained model loaded with {model.count_params()/1e6} M parameters.\")"
      ],
      "execution_count": 2,
      "outputs": [
        {
          "output_type": "stream",
          "text": [
            "Pre-trained model loaded with 0.572223 M parameters.\n"
          ],
          "name": "stdout"
        }
      ]
    },
    {
      "cell_type": "markdown",
      "metadata": {
        "id": "jhTEsfS58vvT"
      },
      "source": [
        "## Load the CIFAR-10 dataset"
      ]
    },
    {
      "cell_type": "code",
      "metadata": {
        "colab": {
          "base_uri": "https://localhost:8080/"
        },
        "id": "bbMcXWvw679h",
        "outputId": "f1e32f85-da6c-460d-824d-5ad6df334201"
      },
      "source": [
        "(_, _), (x_test, y_test) = tf.keras.datasets.cifar10.load_data()\n",
        "print(f\"Total test examples: {len(x_test)}\")"
      ],
      "execution_count": 3,
      "outputs": [
        {
          "output_type": "stream",
          "text": [
            "Total test examples: 10000\n"
          ],
          "name": "stdout"
        }
      ]
    },
    {
      "cell_type": "markdown",
      "metadata": {
        "id": "qjSdsdKl84hF"
      },
      "source": [
        "## Define constants"
      ]
    },
    {
      "cell_type": "code",
      "metadata": {
        "id": "T5_ZADvL7CSh"
      },
      "source": [
        "BATCH_SIZE = 128\n",
        "AUTO = tf.data.AUTOTUNE\n",
        "SAMPLES_PERTURB = 1000"
      ],
      "execution_count": 4,
      "outputs": []
    },
    {
      "cell_type": "markdown",
      "metadata": {
        "id": "WjSqTtJV86Ht"
      },
      "source": [
        "## Prepare data loaders"
      ]
    },
    {
      "cell_type": "code",
      "metadata": {
        "id": "TsWzYdFy7Y4k"
      },
      "source": [
        "perturb_samples = x_test[:SAMPLES_PERTURB].astype(\"float32\")\n",
        "perturb_ds = tf.data.Dataset.from_tensor_slices(perturb_samples).batch(BATCH_SIZE)"
      ],
      "execution_count": 5,
      "outputs": []
    },
    {
      "cell_type": "markdown",
      "metadata": {
        "id": "9tMNGgs99It2"
      },
      "source": [
        "## Calculating the perturbation magnitude ($\\epsilon^{*}$)\n",
        "\n",
        "From the paper: \n",
        "\n",
        "> In our method, we search for the $\\epsilon^{*}$ which maximizes the score $S(x)$ with only the in-distribution validation dataset $D_{\\text {in }}^{\\text {val }}$:\n",
        "\n",
        "$$\\epsilon^{*}=\\underset{\\varepsilon}{\\arg \\max } \\sum_{x \\in D_{i n}^{\\text {val }}} S({\\boldsymbol{x}})$$\n",
        "\n",
        "$S(x)$ is given by:\n",
        "\n",
        ">  For out-of-distribution detection, we use the scoring function:\n",
        "<center>\n",
        "$S_{DeConf}(\\boldsymbol{x})=\\max _{i} h_{i}(\\boldsymbol{x})$ or $g(\\boldsymbol{x})$\n",
        "</center>\n",
        "\n",
        "Perturbation of an input image is realized using the equation below:\n",
        "\n",
        "$$\n",
        "\\hat{\\boldsymbol{x}}=\\boldsymbol{x}-\\epsilon \\operatorname{sign}\\left(-\\nabla_{\\boldsymbol{x}} S(\\boldsymbol{x})\\right)\n",
        "$$"
      ]
    },
    {
      "cell_type": "code",
      "metadata": {
        "id": "WzUie-5-8jAZ"
      },
      "source": [
        "# Let's define our model to obtain scores.\n",
        "scorer = tf.keras.Model(model.input, model.layers[-3].output)"
      ],
      "execution_count": 6,
      "outputs": []
    },
    {
      "cell_type": "code",
      "metadata": {
        "colab": {
          "base_uri": "https://localhost:8080/"
        },
        "id": "IRpKXpigBCfG",
        "outputId": "49faf582-a7ae-4163-f00f-c1b378247e41"
      },
      "source": [
        "# We can take a batch of data and obtain the OOD scores like so.\n",
        "sample_scores = scorer.predict(perturb_ds.take(1))\n",
        "sample_scores[:5], sample_scores.shape"
      ],
      "execution_count": 8,
      "outputs": [
        {
          "output_type": "execute_result",
          "data": {
            "text/plain": [
              "(array([[-3.0669887 , -0.98727894,  1.3357033 ,  7.699172  , -1.4338286 ,\n",
              "          3.7613163 ,  1.7567728 , -1.6623482 , -2.2402666 , -4.084644  ],\n",
              "        [ 4.243999  ,  4.9578056 , -3.025357  , -1.827295  , -5.080552  ,\n",
              "         -5.1366854 , -4.2314186 , -4.6315656 , 14.699764  ,  1.1763803 ],\n",
              "        [ 2.3927803 ,  6.0111713 , -1.8230379 , -2.0257957 , -4.6426225 ,\n",
              "         -4.522476  , -0.6013246 , -3.417397  ,  7.595489  ,  1.4064122 ],\n",
              "        [ 2.7645912 , -0.52025324,  1.0175781 ,  1.5141805 , -1.1482818 ,\n",
              "         -1.2445204 , -1.2819008 , -1.3259014 ,  1.0941672 , -0.534507  ],\n",
              "        [-3.8385963 , -0.5887998 ,  1.1630347 ,  1.2132012 , -0.54011464,\n",
              "         -0.5341552 ,  9.990833  , -3.2007434 , -2.8950775 , -0.83300734]],\n",
              "       dtype=float32), (128, 10))"
            ]
          },
          "metadata": {
            "tags": []
          },
          "execution_count": 8
        }
      ]
    },
    {
      "cell_type": "code",
      "metadata": {
        "id": "JIboPp8bCa3k"
      },
      "source": [
        "# Grid as defined in Section 3.2.\n",
        "epsilon_grid = [0.0025, 0.005, 0.01, 0.02, 0.04, 0.08]"
      ],
      "execution_count": 9,
      "outputs": []
    },
    {
      "cell_type": "code",
      "metadata": {
        "id": "Si8J39lcDSnK"
      },
      "source": [
        "def perturb_images(model, epsilon):\n",
        "    batch_wise_means = []\n",
        "    \n",
        "    for images in perturb_ds:\n",
        "        test_ds_var = tf.Variable(images, trainable=True)\n",
        "        \n",
        "        with tf.GradientTape() as tape:\n",
        "            # Calculate the scores.\n",
        "            tape.watch(test_ds_var)\n",
        "            logits = model(test_ds_var, training=False)\n",
        "            loss = tf.reduce_max(logits, axis=1)\n",
        "            loss = -tf.reduce_mean(loss)\n",
        "\n",
        "        # Calculate the gradients of the scores with respect to the inputs.\n",
        "        gradients = tape.gradient(loss, test_ds_var)\n",
        "        gradients = tf.math.greater_equal(gradients, 0)\n",
        "        gradients = tf.cast(gradients, tf.float32)\n",
        "\n",
        "        # Perturb the inputs and derive new mean score.\n",
        "        # test_ds_var.assign_add(epsilon * gradients)\n",
        "        static_tensor = tf.convert_to_tensor(test_ds_var)\n",
        "        static_tensor = static_tensor + epsilon + gradients\n",
        "        static_tensor = tf.clip_by_value(static_tensor, 0., 255.)\n",
        "        \n",
        "        new_scores = model.predict(static_tensor)\n",
        "        new_scores = -tf.reduce_max(new_scores, axis=1)\n",
        "        new_mean_score = tf.reduce_mean(new_scores).numpy()\n",
        "        batch_wise_means.append(new_mean_score)\n",
        "    \n",
        "    return batch_wise_means"
      ],
      "execution_count": 10,
      "outputs": []
    },
    {
      "cell_type": "code",
      "metadata": {
        "colab": {
          "base_uri": "https://localhost:8080/"
        },
        "id": "d44O5i5HFwjF",
        "outputId": "97283960-b882-4d4e-d33c-2700cafe1f1f"
      },
      "source": [
        "# Derive the perturbation magnitude. \n",
        "mean_scores = {}\n",
        "\n",
        "for epsilon in epsilon_grid:\n",
        "    mean_scores[epsilon] = np.mean(perturb_images(scorer, epsilon))\n",
        "\n",
        "best_epsilon = min(mean_scores, key=(lambda key: mean_scores[key]))\n",
        "print(f\"Epsilon: {best_epsilon / 2.}\")"
      ],
      "execution_count": 11,
      "outputs": [
        {
          "output_type": "stream",
          "text": [
            "Epsilon: 0.00125\n"
          ],
          "name": "stdout"
        }
      ]
    }
  ]
}