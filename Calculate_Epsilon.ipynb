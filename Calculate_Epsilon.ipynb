{
  "nbformat": 4,
  "nbformat_minor": 0,
  "metadata": {
    "colab": {
      "name": "Calculate_Epsilon.ipynb",
      "provenance": [],
      "collapsed_sections": [],
      "machine_shape": "hm",
      "authorship_tag": "ABX9TyOH0Dg2ebshcOCcWDsgSqNw",
      "include_colab_link": true
    },
    "kernelspec": {
      "name": "python3",
      "display_name": "Python 3"
    },
    "language_info": {
      "name": "python"
    },
    "accelerator": "GPU"
  },
  "cells": [
    {
      "cell_type": "markdown",
      "metadata": {
        "id": "view-in-github",
        "colab_type": "text"
      },
      "source": [
        "<a href=\"https://colab.research.google.com/github/sayakpaul/Generalized-ODIN-TF/blob/main/Calculate_Epsilon.ipynb\" target=\"_parent\"><img src=\"https://colab.research.google.com/assets/colab-badge.svg\" alt=\"Open In Colab\"/></a>"
      ]
    },
    {
      "cell_type": "markdown",
      "metadata": {
        "id": "QoqcWOsG8uQw"
      },
      "source": [
        "## Setup"
      ]
    },
    {
      "cell_type": "code",
      "metadata": {
        "colab": {
          "base_uri": "https://localhost:8080/"
        },
        "id": "hSP_ddoJ6FSy",
        "outputId": "54329c66-4f84-4c36-d68d-06ac1b93ac66"
      },
      "source": [
        "# Retrieve the pre-trained ResNet20 model.\n",
        "# Refer to this notebook for details: https://git.io/JOJuL.\n",
        "!gdown --id 1-6Xp7__VMJeMBtGMByI7_GYVeIIv-1Ay -O odin_rn_model.tar.gz\n",
        "!tar xf odin_rn_model.tar.gz"
      ],
      "execution_count": 1,
      "outputs": [
        {
          "output_type": "stream",
          "text": [
            "Downloading...\n",
            "From: https://drive.google.com/uc?id=1-6Xp7__VMJeMBtGMByI7_GYVeIIv-1Ay\n",
            "To: /content/odin_rn_model.tar.gz\n",
            "6.64MB [00:00, 14.3MB/s]\n"
          ],
          "name": "stdout"
        }
      ]
    },
    {
      "cell_type": "code",
      "metadata": {
        "id": "hjNMaqP16fUa"
      },
      "source": [
        "import tensorflow as tf\n",
        "\n",
        "import matplotlib.pyplot as plt\n",
        "import numpy as np\n",
        "\n",
        "tf.random.set_seed(42)\n",
        "np.random.seed(42)"
      ],
      "execution_count": 2,
      "outputs": []
    },
    {
      "cell_type": "markdown",
      "metadata": {
        "id": "sa-bFmFe8xz8"
      },
      "source": [
        "## Load the pre-trained model"
      ]
    },
    {
      "cell_type": "code",
      "metadata": {
        "colab": {
          "base_uri": "https://localhost:8080/"
        },
        "id": "aSfgIZ1y6qQ6",
        "outputId": "3f381d83-7aa2-46a2-9c62-9b2b0531799a"
      },
      "source": [
        "model = tf.keras.models.load_model(\"odin_rn_model\")\n",
        "print(f\"Pre-trained model loaded with {model.count_params()/1e6} M parameters.\")"
      ],
      "execution_count": 3,
      "outputs": [
        {
          "output_type": "stream",
          "text": [
            "Pre-trained model loaded with 0.574572 M parameters.\n"
          ],
          "name": "stdout"
        }
      ]
    },
    {
      "cell_type": "markdown",
      "metadata": {
        "id": "jhTEsfS58vvT"
      },
      "source": [
        "## Load the CIFAR-10 dataset"
      ]
    },
    {
      "cell_type": "code",
      "metadata": {
        "colab": {
          "base_uri": "https://localhost:8080/"
        },
        "id": "bbMcXWvw679h",
        "outputId": "07f23e96-4b09-43fd-9732-fc211485529d"
      },
      "source": [
        "(_, _), (x_test, y_test) = tf.keras.datasets.cifar10.load_data()\n",
        "print(f\"Total test examples: {len(x_test)}\")"
      ],
      "execution_count": 4,
      "outputs": [
        {
          "output_type": "stream",
          "text": [
            "Downloading data from https://www.cs.toronto.edu/~kriz/cifar-10-python.tar.gz\n",
            "170500096/170498071 [==============================] - 11s 0us/step\n",
            "Total test examples: 10000\n"
          ],
          "name": "stdout"
        }
      ]
    },
    {
      "cell_type": "markdown",
      "metadata": {
        "id": "qjSdsdKl84hF"
      },
      "source": [
        "## Define constants"
      ]
    },
    {
      "cell_type": "code",
      "metadata": {
        "id": "T5_ZADvL7CSh"
      },
      "source": [
        "BATCH_SIZE = 128\n",
        "AUTO = tf.data.AUTOTUNE\n",
        "SAMPLES_PERTURB = 1000"
      ],
      "execution_count": 5,
      "outputs": []
    },
    {
      "cell_type": "markdown",
      "metadata": {
        "id": "WjSqTtJV86Ht"
      },
      "source": [
        "## Prepare data loaders"
      ]
    },
    {
      "cell_type": "code",
      "metadata": {
        "id": "TsWzYdFy7Y4k"
      },
      "source": [
        "perturb_ds = tf.convert_to_tensor(x_test[:SAMPLES_PERTURB].astype(\"float32\"))\n",
        "ds = tf.data.Dataset.from_tensor_slices((x_test, y_test))\n",
        "test_ds = ds.skip(SAMPLES_PERTURB).take(len(x_test) - SAMPLES_PERTURB).batch(BATCH_SIZE)"
      ],
      "execution_count": 6,
      "outputs": []
    },
    {
      "cell_type": "markdown",
      "metadata": {
        "id": "9tMNGgs99It2"
      },
      "source": [
        "## Calculating the perturbation magnitude ($\\epsilon^{*}$)\n",
        "\n",
        "From the paper: \n",
        "\n",
        "> In our method, we search for the $\\epsilon^{*}$ which maximizes the score $S(x)$ with only the in-distribution validation dataset $D_{\\text {in }}^{\\text {val }}$:\n",
        "\n",
        "$$\\epsilon^{*}=\\underset{\\varepsilon}{\\arg \\max } \\sum_{x \\in D_{i n}^{\\text {val }}} S({\\boldsymbol{x}})$$\n",
        "\n",
        "$S(x)$ is given by:\n",
        "\n",
        ">  For out-of-distribution detection, we use the scoring function:\n",
        "<center>\n",
        "$S_{DeConf}(\\boldsymbol{x})=\\max _{i} h_{i}(\\boldsymbol{x})$ or $g(\\boldsymbol{x})$\n",
        "</center>\n",
        "\n",
        "Perturbation of an input image is realized using the equation below:\n",
        "\n",
        "$$\n",
        "\\hat{\\boldsymbol{x}}=\\boldsymbol{x}-\\epsilon \\operatorname{sign}\\left(-\\nabla_{\\boldsymbol{x}} S(\\boldsymbol{x})\\right)\n",
        "$$"
      ]
    },
    {
      "cell_type": "code",
      "metadata": {
        "id": "WzUie-5-8jAZ"
      },
      "source": [
        "# Let's define our model to obtain scores.\n",
        "scorer = tf.keras.Model(model.input, model.layers[-2].output)"
      ],
      "execution_count": 7,
      "outputs": []
    },
    {
      "cell_type": "code",
      "metadata": {
        "colab": {
          "base_uri": "https://localhost:8080/"
        },
        "id": "IRpKXpigBCfG",
        "outputId": "e3451d72-43fb-465f-e001-7f3c3a38c41d"
      },
      "source": [
        "# We can take a batch of data and obtain the OOD scores like so.\n",
        "sample_scores = scorer.predict(test_ds.take(1))\n",
        "sample_scores[:5]"
      ],
      "execution_count": 8,
      "outputs": [
        {
          "output_type": "execute_result",
          "data": {
            "text/plain": [
              "array([[0.41780296, 0.2997888 , 0.4275428 , 0.2922473 , 0.63637024,\n",
              "        0.33219904, 0.2604284 , 0.4477548 , 0.25829434, 0.4107704 ],\n",
              "       [0.19263811, 0.3435083 , 0.36226654, 0.3572665 , 0.46521035,\n",
              "        0.46667832, 0.29159817, 0.32265866, 0.17091233, 0.30804995],\n",
              "       [0.37120223, 0.41554987, 0.5025233 , 0.4851714 , 0.6317212 ,\n",
              "        0.42792305, 0.35079503, 0.3369525 , 0.2270815 , 0.35269836],\n",
              "       [0.4974115 , 0.345519  , 0.52093667, 0.5070584 , 0.34025857,\n",
              "        0.38563576, 0.35554996, 0.38100013, 0.37354237, 0.61080885],\n",
              "       [0.6302233 , 0.6320237 , 0.727445  , 0.73132706, 0.902592  ,\n",
              "        0.80281276, 0.61695886, 0.74789333, 0.2984905 , 0.80991894]],\n",
              "      dtype=float32)"
            ]
          },
          "metadata": {
            "tags": []
          },
          "execution_count": 8
        }
      ]
    },
    {
      "cell_type": "code",
      "metadata": {
        "id": "JIboPp8bCa3k"
      },
      "source": [
        "# Grid as defined in Section 3.2.\n",
        "epsilon_grid = [0.0025, 0.005, 0.01, 0.02, 0.04, 0.08]"
      ],
      "execution_count": 9,
      "outputs": []
    },
    {
      "cell_type": "code",
      "metadata": {
        "id": "Si8J39lcDSnK"
      },
      "source": [
        "def perturb_images(model, epsilon):\n",
        "    test_ds_var = tf.Variable(perturb_ds, trainable=True)\n",
        "    \n",
        "    with tf.GradientTape() as tape:\n",
        "        # Calculate the scores.\n",
        "        tape.watch(test_ds_var)\n",
        "        scores = model(test_ds_var, training=False)\n",
        "\n",
        "    # Calculate the gradients of the scores with respect to the inputs.\n",
        "    # (Notice the sign.)\n",
        "    gradients = -tape.gradient(scores, test_ds_var)\n",
        "\n",
        "    # Perturb the inputs and derive new mean score.\n",
        "    test_ds_var.assign_sub(epsilon * tf.sign(gradients))\n",
        "    static_tensor = tf.convert_to_tensor(test_ds_var)\n",
        "    static_tensor = tf.clip_by_value(static_tensor, 0., 255.)\n",
        "    new_mean_score = tf.reduce_mean(model.predict(static_tensor))\n",
        "\n",
        "    return new_mean_score"
      ],
      "execution_count": 10,
      "outputs": []
    },
    {
      "cell_type": "code",
      "metadata": {
        "colab": {
          "base_uri": "https://localhost:8080/"
        },
        "id": "d44O5i5HFwjF",
        "outputId": "670eefe1-e839-4fd6-d07b-9a46d89f73d4"
      },
      "source": [
        "# Derive the perturbation magnitude. \n",
        "mean_scores = []\n",
        "\n",
        "for epsilon in epsilon_grid:\n",
        "    mean_scores.append(perturb_images(scorer, epsilon).numpy())\n",
        "\n",
        "epsilon_selected = epsilon_grid[np.argmax(mean_scores)]\n",
        "print(f\"Epsilon: {epsilon_selected}\")"
      ],
      "execution_count": 11,
      "outputs": [
        {
          "output_type": "stream",
          "text": [
            "Epsilon: 0.08\n"
          ],
          "name": "stdout"
        }
      ]
    }
  ]
}