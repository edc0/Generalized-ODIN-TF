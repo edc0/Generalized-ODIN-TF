{
  "nbformat": 4,
  "nbformat_minor": 0,
  "metadata": {
    "colab": {
      "name": "Calculate_Epsilon.ipynb",
      "provenance": [],
      "collapsed_sections": [],
      "machine_shape": "hm",
      "authorship_tag": "ABX9TyMK9vZ5HtuVjNPJRsRBumCo",
      "include_colab_link": true
    },
    "kernelspec": {
      "name": "python3",
      "display_name": "Python 3"
    },
    "language_info": {
      "name": "python"
    },
    "accelerator": "GPU"
  },
  "cells": [
    {
      "cell_type": "markdown",
      "metadata": {
        "id": "view-in-github",
        "colab_type": "text"
      },
      "source": [
        "<a href=\"https://colab.research.google.com/github/sayakpaul/Generalized-ODIN-TF/blob/main/Calculate_Epsilon.ipynb\" target=\"_parent\"><img src=\"https://colab.research.google.com/assets/colab-badge.svg\" alt=\"Open In Colab\"/></a>"
      ]
    },
    {
      "cell_type": "markdown",
      "metadata": {
        "id": "QoqcWOsG8uQw"
      },
      "source": [
        "## Setup"
      ]
    },
    {
      "cell_type": "code",
      "metadata": {
        "colab": {
          "base_uri": "https://localhost:8080/"
        },
        "id": "hSP_ddoJ6FSy",
        "outputId": "7f82ae41-bd93-4871-c944-b30cff32327e"
      },
      "source": [
        "# Retrieve the pre-trained ResNet20 model.\n",
        "# Refer to this notebook for details: https://git.io/JOJuL.\n",
        "!gdown --id 1-6Xp7__VMJeMBtGMByI7_GYVeIIv-1Ay -O odin_rn_model.tar.gz\n",
        "!tar xf odin_rn_model.tar.gz"
      ],
      "execution_count": 1,
      "outputs": [
        {
          "output_type": "stream",
          "text": [
            "Downloading...\n",
            "From: https://drive.google.com/uc?id=1-6Xp7__VMJeMBtGMByI7_GYVeIIv-1Ay\n",
            "To: /content/odin_rn_model.tar.gz\n",
            "6.62MB [00:00, 40.2MB/s]\n"
          ],
          "name": "stdout"
        }
      ]
    },
    {
      "cell_type": "code",
      "metadata": {
        "id": "hjNMaqP16fUa"
      },
      "source": [
        "import tensorflow as tf\n",
        "\n",
        "import matplotlib.pyplot as plt\n",
        "import numpy as np\n",
        "\n",
        "tf.random.set_seed(42)\n",
        "np.random.seed(42)"
      ],
      "execution_count": 1,
      "outputs": []
    },
    {
      "cell_type": "markdown",
      "metadata": {
        "id": "sa-bFmFe8xz8"
      },
      "source": [
        "## Load the pre-trained model"
      ]
    },
    {
      "cell_type": "code",
      "metadata": {
        "colab": {
          "base_uri": "https://localhost:8080/"
        },
        "id": "aSfgIZ1y6qQ6",
        "outputId": "98b40271-c689-4161-9a50-86ab2d2f80ab"
      },
      "source": [
        "model = tf.keras.models.load_model(\"odin_rn_model\")\n",
        "print(f\"Pre-trained model loaded with {model.count_params()/1e6} M parameters.\")"
      ],
      "execution_count": 2,
      "outputs": [
        {
          "output_type": "stream",
          "text": [
            "Pre-trained model loaded with 0.572223 M parameters.\n"
          ],
          "name": "stdout"
        }
      ]
    },
    {
      "cell_type": "markdown",
      "metadata": {
        "id": "jhTEsfS58vvT"
      },
      "source": [
        "## Load the CIFAR-10 dataset"
      ]
    },
    {
      "cell_type": "code",
      "metadata": {
        "colab": {
          "base_uri": "https://localhost:8080/"
        },
        "id": "bbMcXWvw679h",
        "outputId": "74ebbf93-b040-4afb-896a-24d7243fcdf8"
      },
      "source": [
        "(_, _), (x_test, y_test) = tf.keras.datasets.cifar10.load_data()\n",
        "print(f\"Total test examples: {len(x_test)}\")"
      ],
      "execution_count": 3,
      "outputs": [
        {
          "output_type": "stream",
          "text": [
            "Total test examples: 10000\n"
          ],
          "name": "stdout"
        }
      ]
    },
    {
      "cell_type": "markdown",
      "metadata": {
        "id": "qjSdsdKl84hF"
      },
      "source": [
        "## Define constants"
      ]
    },
    {
      "cell_type": "code",
      "metadata": {
        "id": "T5_ZADvL7CSh"
      },
      "source": [
        "BATCH_SIZE = 128\n",
        "AUTO = tf.data.AUTOTUNE\n",
        "SAMPLES_PERTURB = 1000"
      ],
      "execution_count": 4,
      "outputs": []
    },
    {
      "cell_type": "markdown",
      "metadata": {
        "id": "WjSqTtJV86Ht"
      },
      "source": [
        "## Prepare data loaders"
      ]
    },
    {
      "cell_type": "code",
      "metadata": {
        "id": "TsWzYdFy7Y4k"
      },
      "source": [
        "perturb_ds = tf.convert_to_tensor(x_test[:SAMPLES_PERTURB].astype(\"float32\"))\n",
        "ds = tf.data.Dataset.from_tensor_slices((x_test, y_test))\n",
        "test_ds = ds.skip(SAMPLES_PERTURB).take(len(x_test) - SAMPLES_PERTURB).batch(BATCH_SIZE)"
      ],
      "execution_count": 5,
      "outputs": []
    },
    {
      "cell_type": "markdown",
      "metadata": {
        "id": "9tMNGgs99It2"
      },
      "source": [
        "## Calculating the perturbation magnitude ($\\epsilon^{*}$)\n",
        "\n",
        "From the paper: \n",
        "\n",
        "> In our method, we search for the $\\epsilon^{*}$ which maximizes the score $S(x)$ with only the in-distribution validation dataset $D_{\\text {in }}^{\\text {val }}$:\n",
        "\n",
        "$$\\epsilon^{*}=\\underset{\\varepsilon}{\\arg \\max } \\sum_{x \\in D_{i n}^{\\text {val }}} S({\\boldsymbol{x}})$$\n",
        "\n",
        "$S(x)$ is given by:\n",
        "\n",
        ">  For out-of-distribution detection, we use the scoring function:\n",
        "<center>\n",
        "$S_{DeConf}(\\boldsymbol{x})=\\max _{i} h_{i}(\\boldsymbol{x})$ or $g(\\boldsymbol{x})$\n",
        "</center>\n",
        "\n",
        "Perturbation of an input image is realized using the equation below:\n",
        "\n",
        "$$\n",
        "\\hat{\\boldsymbol{x}}=\\boldsymbol{x}-\\epsilon \\operatorname{sign}\\left(-\\nabla_{\\boldsymbol{x}} S(\\boldsymbol{x})\\right)\n",
        "$$"
      ]
    },
    {
      "cell_type": "code",
      "metadata": {
        "id": "WzUie-5-8jAZ"
      },
      "source": [
        "# Let's define our model to obtain scores.\n",
        "scorer = tf.keras.Model(model.input, model.layers[-3].output)"
      ],
      "execution_count": 6,
      "outputs": []
    },
    {
      "cell_type": "code",
      "metadata": {
        "colab": {
          "base_uri": "https://localhost:8080/"
        },
        "id": "IRpKXpigBCfG",
        "outputId": "883b4dd3-6c3e-4c89-c702-33f09b0718ba"
      },
      "source": [
        "# We can take a batch of data and obtain the OOD scores like so.\n",
        "sample_scores = scorer.predict(test_ds.take(1))\n",
        "sample_scores[:5], sample_scores.shape"
      ],
      "execution_count": 8,
      "outputs": [
        {
          "output_type": "execute_result",
          "data": {
            "text/plain": [
              "(array([[ -7.3858304,  -4.398713 ,   2.3269448,   8.260478 ,   0.6237583,\n",
              "           6.951867 ,   5.303116 ,  -1.433213 ,  -5.521435 ,  -4.7768483],\n",
              "        [ 11.8561945,   3.8889992,   0.7458444,  -3.396165 ,  -3.631293 ,\n",
              "          -8.730821 ,  -8.521949 ,  -5.3349705,  10.599314 ,   3.2314248],\n",
              "        [  1.4345236,   4.5795317,  -4.922901 ,  -1.4036714,  -5.604335 ,\n",
              "          -3.132948 ,  -5.479171 ,  -3.4059682,  15.415438 ,   5.6661053],\n",
              "        [ -6.804879 ,  -8.259593 ,   1.7251043,   4.7501116,  16.202501 ,\n",
              "           8.437861 ,  -2.1132357,   5.5491834, -11.250345 ,  -5.944642 ],\n",
              "        [  5.1940913,   8.496859 ,  -6.5266933,  -2.5342746,  -9.523632 ,\n",
              "          -6.7520833,  -9.587466 ,  -9.912749 ,  28.651361 ,   6.293258 ]],\n",
              "       dtype=float32), (128, 10))"
            ]
          },
          "metadata": {
            "tags": []
          },
          "execution_count": 8
        }
      ]
    },
    {
      "cell_type": "code",
      "metadata": {
        "id": "JIboPp8bCa3k"
      },
      "source": [
        "# Grid as defined in Section 3.2.\n",
        "epsilon_grid = [0.0025, 0.005, 0.01, 0.02, 0.04, 0.08]"
      ],
      "execution_count": 9,
      "outputs": []
    },
    {
      "cell_type": "code",
      "metadata": {
        "id": "Si8J39lcDSnK"
      },
      "source": [
        "def perturb_images(model, epsilon):\n",
        "    test_ds_var = tf.Variable(perturb_ds, trainable=True)\n",
        "    \n",
        "    with tf.GradientTape() as tape:\n",
        "        # Calculate the scores.\n",
        "        tape.watch(test_ds_var)\n",
        "        logits = model(test_ds_var, training=False)\n",
        "        scores = tf.reduce_max(logits, axis=1)\n",
        "\n",
        "    # Calculate the gradients of the scores with respect to the inputs.\n",
        "    # (Notice the sign.)\n",
        "    gradients = -tape.gradient(scores, test_ds_var)\n",
        "\n",
        "    # Perturb the inputs and derive new mean score.\n",
        "    test_ds_var.assign_sub(epsilon * tf.sign(gradients))\n",
        "    static_tensor = tf.convert_to_tensor(test_ds_var)\n",
        "    static_tensor = tf.clip_by_value(static_tensor, 0., 255.)\n",
        "    new_mean_score = tf.reduce_mean(model.predict(static_tensor))\n",
        "\n",
        "    return new_mean_score"
      ],
      "execution_count": 17,
      "outputs": []
    },
    {
      "cell_type": "code",
      "metadata": {
        "colab": {
          "base_uri": "https://localhost:8080/"
        },
        "id": "d44O5i5HFwjF",
        "outputId": "93aad08c-9892-4a83-fa6b-2aa20cc361ff"
      },
      "source": [
        "# Derive the perturbation magnitude. \n",
        "mean_scores = []\n",
        "\n",
        "for epsilon in epsilon_grid:\n",
        "    mean_scores.append(perturb_images(scorer, epsilon).numpy())\n",
        "\n",
        "epsilon_selected = epsilon_grid[np.argmax(mean_scores)]\n",
        "print(f\"Epsilon: {epsilon_selected}\")"
      ],
      "execution_count": 18,
      "outputs": [
        {
          "output_type": "stream",
          "text": [
            "Epsilon: 0.08\n"
          ],
          "name": "stdout"
        }
      ]
    }
  ]
}